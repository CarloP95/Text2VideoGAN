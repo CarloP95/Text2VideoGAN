{
 "cells": [
  {
   "cell_type": "markdown",
   "metadata": {},
   "source": [
    "# Objective: generate video from text description\n",
    "\n",
    "- Download dataset UCF-101 https://www.crcv.ucf.edu/data/UCF101.php. It's an action recognition dataset, with input videos and corresponding action classes.\n",
    "\n",
    "- Download MoCoGAN code (conditional GAN model for video generation, with categorical condition): https://github.com/DLHacks/mocogan\n",
    "\n",
    "- Train MoCoGAN on UCF-101: the resulting model will be able to generate videos from action classes\n",
    "\n",
    "- Download S2VT pre-trained model (video-to-text model): https://vsubhashini.github.io/s2vt.html\n",
    "\n",
    "  - Note: S2VT uses the Caffe library. Install the library (you don't need to train the model).\n",
    "\n",
    "- Process each video in UCF-101 and get the corresponding text description. Create a dataset with input=text description and output=action class.\n",
    "\n",
    "- Train an LSTM classifier (similar to the one used in class for sentiment analysis) to classify text descriptions into actions. Report the performance.\n",
    "\n",
    "- The final model works by: getting an input text description by the user, converting it into an action class with the LSTM model, and using the action class as a condition to MoCoGAN.\n",
    "\n",
    "Note: the model will not be precise in generating video details, since conditioning is based on the class only. \n",
    "For example:\n",
    "\n",
    "\"I'm running in the park\" -> action: running\n",
    "\n",
    "\"My dog is running on the beach\" -> action: running\n",
    "\n",
    "Output videos will not actually take into account the context, but only the action."
   ]
  },
  {
   "cell_type": "code",
   "execution_count": 1,
   "metadata": {},
   "outputs": [],
   "source": [
    "import os\n",
    "import torch\n",
    "import numpy as np\n",
    "from glob import glob\n",
    "from torch.utils.data import DataLoader\n",
    "\n",
    "import skvideo.io"
   ]
  },
  {
   "cell_type": "code",
   "execution_count": 6,
   "metadata": {},
   "outputs": [
    {
     "data": {
      "text/plain": [
       "'/home/carlo/Documenti/Text2VideoGAN/mocogan/resized_data/Haircut/v_Haircut_g20_c05.mp4'"
      ]
     },
     "execution_count": 6,
     "metadata": {},
     "output_type": "execute_result"
    }
   ],
   "source": [
    "data_dir = \"/home/carlo/Documents/Cognitive Computing/Text2VideoGAN/mocogan/resized_data\"\n",
    "image_dir_name = \"*\"\n",
    "image_paths = glob(os.path.join(data_dir, image_dir_name, \"*\"))\n",
    "\n",
    "if (len(image_paths) < 1):\n",
    "    data_dir = \"/home/carlo/Documenti/Text2VideoGAN/mocogan/resized_data\"\n",
    "    image_paths = glob(os.path.join(data_dir, image_dir_name, \"*\"))\n",
    "    \n",
    "image_paths[0]"
   ]
  },
  {
   "cell_type": "code",
   "execution_count": 28,
   "metadata": {},
   "outputs": [],
   "source": [
    "original_video = skvideo.io.vread(image_paths[0], 96, 96)\n",
    "video =  original_video.transpose(3, 0, 1, 2) / 255.0"
   ]
  },
  {
   "cell_type": "markdown",
   "metadata": {},
   "source": [
    "## Trying to display a video changed by transposing it"
   ]
  },
  {
   "cell_type": "code",
   "execution_count": 36,
   "metadata": {},
   "outputs": [],
   "source": [
    "\n",
    "dirToSave = \"./\"\n",
    "fileName = \"transposedVideo.mp4\"\n",
    "#filepath = os.path.join(dirToSave, fileName)\n",
    "\n",
    "toSaveVideo = original_video.astype(np.uint8)\n",
    "skvideo.io.vwrite(fileName, toSaveVideo)\n",
    "\n"
   ]
  },
  {
   "cell_type": "markdown",
   "metadata": {},
   "source": [
    "## Import the necessary dependencies to train the model"
   ]
  },
  {
   "cell_type": "code",
   "execution_count": 56,
   "metadata": {},
   "outputs": [
    {
     "data": {
      "text/plain": [
       "1"
      ]
     },
     "execution_count": 56,
     "metadata": {},
     "output_type": "execute_result"
    }
   ],
   "source": []
  }
 ],
 "metadata": {
  "kernelspec": {
   "display_name": "Python 3",
   "language": "python",
   "name": "python3"
  },
  "language_info": {
   "codemirror_mode": {
    "name": "ipython",
    "version": 3
   },
   "file_extension": ".py",
   "mimetype": "text/x-python",
   "name": "python",
   "nbconvert_exporter": "python",
   "pygments_lexer": "ipython3",
   "version": "3.7.3"
  }
 },
 "nbformat": 4,
 "nbformat_minor": 2
}
