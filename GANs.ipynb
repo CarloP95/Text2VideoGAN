{
 "cells": [
  {
   "cell_type": "markdown",
   "metadata": {},
   "source": [
    "# Objective: generate video from text description\n",
    "\n",
    "- Download dataset UCF-101 https://www.crcv.ucf.edu/data/UCF101.php. It's an action recognition dataset, with input videos and corresponding action classes.\n",
    "\n",
    "- Download MoCoGAN code (conditional GAN model for video generation, with categorical condition): https://github.com/DLHacks/mocogan\n",
    "\n",
    "- Train MoCoGAN on UCF-101: the resulting model will be able to generate videos from action classes\n",
    "\n",
    "- Download S2VT pre-trained model (video-to-text model): https://vsubhashini.github.io/s2vt.html\n",
    "\n",
    "  - Note: S2VT uses the Caffe library. Install the library (you don't need to train the model).\n",
    "\n",
    "- Process each video in UCF-101 and get the corresponding text description. Create a dataset with input=text description and output=action class.\n",
    "\n",
    "- Train an LSTM classifier (similar to the one used in class for sentiment analysis) to classify text descriptions into actions. Report the performance.\n",
    "\n",
    "- The final model works by: getting an input text description by the user, converting it into an action class with the LSTM model, and using the action class as a condition to MoCoGAN.\n",
    "\n",
    "Note: the model will not be precise in generating video details, since conditioning is based on the class only. \n",
    "For example:\n",
    "\n",
    "\"I'm running in the park\" -> action: running\n",
    "\n",
    "\"My dog is running on the beach\" -> action: running\n",
    "\n",
    "Output videos will not actually take into account the context, but only the action."
   ]
  },
  {
   "cell_type": "code",
   "execution_count": 2,
   "metadata": {},
   "outputs": [],
   "source": [
    "import os\n",
    "import torch\n",
    "from glob import glob\n",
    "from torch.utils.data import DataLoader"
   ]
  },
  {
   "cell_type": "code",
   "execution_count": 9,
   "metadata": {},
   "outputs": [
    {
     "ename": "ModuleNotFoundError",
     "evalue": "No module named 'skvideo'",
     "output_type": "error",
     "traceback": [
      "\u001b[0;31m---------------------------------------------------------------------------\u001b[0m",
      "\u001b[0;31mModuleNotFoundError\u001b[0m                       Traceback (most recent call last)",
      "\u001b[0;32m<ipython-input-9-4d233e430133>\u001b[0m in \u001b[0;36m<module>\u001b[0;34m\u001b[0m\n\u001b[0;32m----> 1\u001b[0;31m \u001b[0;32mimport\u001b[0m \u001b[0mskvideo\u001b[0m\u001b[0;34m.\u001b[0m\u001b[0mio\u001b[0m\u001b[0;34m\u001b[0m\u001b[0;34m\u001b[0m\u001b[0m\n\u001b[0m",
      "\u001b[0;31mModuleNotFoundError\u001b[0m: No module named 'skvideo'"
     ]
    }
   ],
   "source": [
    "import skvideo.io"
   ]
  },
  {
   "cell_type": "code",
   "execution_count": 8,
   "metadata": {
    "scrolled": true
   },
   "outputs": [
    {
     "data": {
      "text/plain": [
       "['/home/carlo/Documenti/Text2VideoGAN/UCF-101/Haircut',\n",
       " '/home/carlo/Documenti/Text2VideoGAN/UCF-101/Basketball',\n",
       " '/home/carlo/Documenti/Text2VideoGAN/UCF-101/SalsaSpin',\n",
       " '/home/carlo/Documenti/Text2VideoGAN/UCF-101/Bowling',\n",
       " '/home/carlo/Documenti/Text2VideoGAN/UCF-101/BrushingTeeth',\n",
       " '/home/carlo/Documenti/Text2VideoGAN/UCF-101/Skijet',\n",
       " '/home/carlo/Documenti/Text2VideoGAN/UCF-101/PlayingGuitar',\n",
       " '/home/carlo/Documenti/Text2VideoGAN/UCF-101/RockClimbingIndoor',\n",
       " '/home/carlo/Documenti/Text2VideoGAN/UCF-101/SumoWrestling',\n",
       " '/home/carlo/Documenti/Text2VideoGAN/UCF-101/Surfing',\n",
       " '/home/carlo/Documenti/Text2VideoGAN/UCF-101/WritingOnBoard',\n",
       " '/home/carlo/Documenti/Text2VideoGAN/UCF-101/Biking',\n",
       " '/home/carlo/Documenti/Text2VideoGAN/UCF-101/PoleVault',\n",
       " '/home/carlo/Documenti/Text2VideoGAN/UCF-101/BodyWeightSquats',\n",
       " '/home/carlo/Documenti/Text2VideoGAN/UCF-101/SkyDiving',\n",
       " '/home/carlo/Documenti/Text2VideoGAN/UCF-101/HulaHoop',\n",
       " '/home/carlo/Documenti/Text2VideoGAN/UCF-101/ApplyEyeMakeup',\n",
       " '/home/carlo/Documenti/Text2VideoGAN/UCF-101/BoxingSpeedBag',\n",
       " '/home/carlo/Documenti/Text2VideoGAN/UCF-101/BaseballPitch',\n",
       " '/home/carlo/Documenti/Text2VideoGAN/UCF-101/WalkingWithDog',\n",
       " '/home/carlo/Documenti/Text2VideoGAN/UCF-101/JumpingJack',\n",
       " '/home/carlo/Documenti/Text2VideoGAN/UCF-101/ApplyLipstick',\n",
       " '/home/carlo/Documenti/Text2VideoGAN/UCF-101/JumpRope',\n",
       " '/home/carlo/Documenti/Text2VideoGAN/UCF-101/BlowDryHair',\n",
       " '/home/carlo/Documenti/Text2VideoGAN/UCF-101/Archery',\n",
       " '/home/carlo/Documenti/Text2VideoGAN/UCF-101/Rowing',\n",
       " '/home/carlo/Documenti/Text2VideoGAN/UCF-101/Kayaking',\n",
       " '/home/carlo/Documenti/Text2VideoGAN/UCF-101/HammerThrow',\n",
       " '/home/carlo/Documenti/Text2VideoGAN/UCF-101/BoxingPunchingBag',\n",
       " '/home/carlo/Documenti/Text2VideoGAN/UCF-101/PushUps',\n",
       " '/home/carlo/Documenti/Text2VideoGAN/UCF-101/Knitting',\n",
       " '/home/carlo/Documenti/Text2VideoGAN/UCF-101/TableTennisShot',\n",
       " '/home/carlo/Documenti/Text2VideoGAN/UCF-101/Fencing',\n",
       " '/home/carlo/Documenti/Text2VideoGAN/UCF-101/Drumming',\n",
       " '/home/carlo/Documenti/Text2VideoGAN/UCF-101/HandstandWalking',\n",
       " '/home/carlo/Documenti/Text2VideoGAN/UCF-101/BreastStroke',\n",
       " '/home/carlo/Documenti/Text2VideoGAN/UCF-101/WallPushups',\n",
       " '/home/carlo/Documenti/Text2VideoGAN/UCF-101/Mixing',\n",
       " '/home/carlo/Documenti/Text2VideoGAN/UCF-101/TaiChi',\n",
       " '/home/carlo/Documenti/Text2VideoGAN/UCF-101/PlayingFlute',\n",
       " '/home/carlo/Documenti/Text2VideoGAN/UCF-101/Swing',\n",
       " '/home/carlo/Documenti/Text2VideoGAN/UCF-101/CliffDiving',\n",
       " '/home/carlo/Documenti/Text2VideoGAN/UCF-101/MoppingFloor',\n",
       " '/home/carlo/Documenti/Text2VideoGAN/UCF-101/Diving',\n",
       " '/home/carlo/Documenti/Text2VideoGAN/UCF-101/UnevenBars',\n",
       " '/home/carlo/Documenti/Text2VideoGAN/UCF-101/PommelHorse',\n",
       " '/home/carlo/Documenti/Text2VideoGAN/UCF-101/YoYo',\n",
       " '/home/carlo/Documenti/Text2VideoGAN/UCF-101/JugglingBalls',\n",
       " '/home/carlo/Documenti/Text2VideoGAN/UCF-101/Skiing',\n",
       " '/home/carlo/Documenti/Text2VideoGAN/UCF-101/MilitaryParade',\n",
       " '/home/carlo/Documenti/Text2VideoGAN/UCF-101/CricketBowling',\n",
       " '/home/carlo/Documenti/Text2VideoGAN/UCF-101/Lunges',\n",
       " '/home/carlo/Documenti/Text2VideoGAN/UCF-101/ShavingBeard',\n",
       " '/home/carlo/Documenti/Text2VideoGAN/UCF-101/BasketballDunk',\n",
       " '/home/carlo/Documenti/Text2VideoGAN/UCF-101/BandMarching',\n",
       " '/home/carlo/Documenti/Text2VideoGAN/UCF-101/BenchPress',\n",
       " '/home/carlo/Documenti/Text2VideoGAN/UCF-101/CuttingInKitchen',\n",
       " '/home/carlo/Documenti/Text2VideoGAN/UCF-101/GolfSwing',\n",
       " '/home/carlo/Documenti/Text2VideoGAN/UCF-101/PizzaTossing',\n",
       " '/home/carlo/Documenti/Text2VideoGAN/UCF-101/PlayingCello',\n",
       " '/home/carlo/Documenti/Text2VideoGAN/UCF-101/Rafting',\n",
       " '/home/carlo/Documenti/Text2VideoGAN/UCF-101/PullUps',\n",
       " '/home/carlo/Documenti/Text2VideoGAN/UCF-101/SkateBoarding',\n",
       " '/home/carlo/Documenti/Text2VideoGAN/UCF-101/Hammering',\n",
       " '/home/carlo/Documenti/Text2VideoGAN/UCF-101/Typing',\n",
       " '/home/carlo/Documenti/Text2VideoGAN/UCF-101/Shotput',\n",
       " '/home/carlo/Documenti/Text2VideoGAN/UCF-101/SoccerPenalty',\n",
       " '/home/carlo/Documenti/Text2VideoGAN/UCF-101/Punch',\n",
       " '/home/carlo/Documenti/Text2VideoGAN/UCF-101/FrisbeeCatch',\n",
       " '/home/carlo/Documenti/Text2VideoGAN/UCF-101/VolleyballSpiking',\n",
       " '/home/carlo/Documenti/Text2VideoGAN/UCF-101/PlayingDhol',\n",
       " '/home/carlo/Documenti/Text2VideoGAN/UCF-101/StillRings',\n",
       " '/home/carlo/Documenti/Text2VideoGAN/UCF-101/TrampolineJumping',\n",
       " '/home/carlo/Documenti/Text2VideoGAN/UCF-101/HeadMassage',\n",
       " '/home/carlo/Documenti/Text2VideoGAN/UCF-101/FrontCrawl',\n",
       " '/home/carlo/Documenti/Text2VideoGAN/UCF-101/IceDancing',\n",
       " '/home/carlo/Documenti/Text2VideoGAN/UCF-101/RopeClimbing',\n",
       " '/home/carlo/Documenti/Text2VideoGAN/UCF-101/JavelinThrow',\n",
       " '/home/carlo/Documenti/Text2VideoGAN/UCF-101/HorseRiding',\n",
       " '/home/carlo/Documenti/Text2VideoGAN/UCF-101/HandstandPushups',\n",
       " '/home/carlo/Documenti/Text2VideoGAN/UCF-101/PlayingTabla',\n",
       " '/home/carlo/Documenti/Text2VideoGAN/UCF-101/HighJump',\n",
       " '/home/carlo/Documenti/Text2VideoGAN/UCF-101/BabyCrawling',\n",
       " '/home/carlo/Documenti/Text2VideoGAN/UCF-101/ParallelBars',\n",
       " '/home/carlo/Documenti/Text2VideoGAN/UCF-101/ThrowDiscus',\n",
       " '/home/carlo/Documenti/Text2VideoGAN/UCF-101/TennisSwing',\n",
       " '/home/carlo/Documenti/Text2VideoGAN/UCF-101/FloorGymnastics',\n",
       " '/home/carlo/Documenti/Text2VideoGAN/UCF-101/BlowingCandles',\n",
       " '/home/carlo/Documenti/Text2VideoGAN/UCF-101/Nunchucks',\n",
       " '/home/carlo/Documenti/Text2VideoGAN/UCF-101/LongJump',\n",
       " '/home/carlo/Documenti/Text2VideoGAN/UCF-101/SoccerJuggling',\n",
       " '/home/carlo/Documenti/Text2VideoGAN/UCF-101/PlayingViolin',\n",
       " '/home/carlo/Documenti/Text2VideoGAN/UCF-101/CleanAndJerk',\n",
       " '/home/carlo/Documenti/Text2VideoGAN/UCF-101/PlayingDaf',\n",
       " '/home/carlo/Documenti/Text2VideoGAN/UCF-101/PlayingSitar',\n",
       " '/home/carlo/Documenti/Text2VideoGAN/UCF-101/Billiards',\n",
       " '/home/carlo/Documenti/Text2VideoGAN/UCF-101/HorseRace',\n",
       " '/home/carlo/Documenti/Text2VideoGAN/UCF-101/PlayingPiano',\n",
       " '/home/carlo/Documenti/Text2VideoGAN/UCF-101/BalanceBeam',\n",
       " '/home/carlo/Documenti/Text2VideoGAN/UCF-101/FieldHockeyPenalty',\n",
       " '/home/carlo/Documenti/Text2VideoGAN/UCF-101/CricketShot']"
      ]
     },
     "execution_count": 8,
     "metadata": {},
     "output_type": "execute_result"
    }
   ],
   "source": [
    "data_dir = \"/home/carlo/Documents/Cognitive Computing/Text2VideoGAN\"\n",
    "image_dir_name = \"UCF-101\"\n",
    "image_paths = glob(os.path.join(data_dir, image_dir_name, \"*\"))\n",
    "\n",
    "if (len(image_paths) < 1):\n",
    "    data_dir = \"/home/carlo/Documenti/Text2VideoGAN/\"\n",
    "    image_paths = glob(os.path.join(data_dir, image_dir_name, \"*\"))\n",
    "    \n",
    "image_paths"
   ]
  },
  {
   "cell_type": "code",
   "execution_count": null,
   "metadata": {},
   "outputs": [],
   "source": []
  }
 ],
 "metadata": {
  "kernelspec": {
   "display_name": "Python 3",
   "language": "python",
   "name": "python3"
  },
  "language_info": {
   "codemirror_mode": {
    "name": "ipython",
    "version": 3
   },
   "file_extension": ".py",
   "mimetype": "text/x-python",
   "name": "python",
   "nbconvert_exporter": "python",
   "pygments_lexer": "ipython3",
   "version": "3.6.8"
  }
 },
 "nbformat": 4,
 "nbformat_minor": 2
}
