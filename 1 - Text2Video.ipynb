{
 "cells": [
  {
   "cell_type": "markdown",
   "metadata": {},
   "source": [
    "# Text To Video\n",
    "\n",
    "In this notebook the project will be exposed with its normal operating mode.\n",
    "\n",
    "First let's import the Generator Model."
   ]
  },
  {
   "cell_type": "code",
   "execution_count": null,
   "metadata": {},
   "outputs": [],
   "source": [
    "from mocogan.models import VideoGenerator\n",
    "\n",
    "n_channels      = 3\n",
    "dim_z_content   = 50\n",
    "dim_z_category  = 101\n",
    "dim_z_motion    = 10\n",
    "video_length    = 16\n",
    "cuda            = True\n",
    "\n",
    "\n",
    "gen = VideoGenerator(n_channels, dim_z_content, dim_z_category, dim_z_motion, video_length, cuda )"
   ]
  },
  {
   "cell_type": "markdown",
   "metadata": {},
   "source": [
    "## Load saved State\n",
    "Now load saved state."
   ]
  },
  {
   "cell_type": "code",
   "execution_count": 3,
   "metadata": {},
   "outputs": [
    {
     "data": {
      "text/plain": [
       "<function mocogan.trainer.Trainer.loadState(self, epoch)>"
      ]
     },
     "execution_count": 3,
     "metadata": {},
     "output_type": "execute_result"
    }
   ],
   "source": [
    "from mocogan.trainer import Trainer\n"
   ]
  }
 ],
 "metadata": {
  "kernelspec": {
   "display_name": "Python 3",
   "language": "python",
   "name": "python3"
  },
  "language_info": {
   "codemirror_mode": {
    "name": "ipython",
    "version": 3
   },
   "file_extension": ".py",
   "mimetype": "text/x-python",
   "name": "python",
   "nbconvert_exporter": "python",
   "pygments_lexer": "ipython3",
   "version": "3.6.8"
  }
 },
 "nbformat": 4,
 "nbformat_minor": 2
}
